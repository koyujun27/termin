{
 "cells": [
  {
   "cell_type": "markdown",
   "id": "78a091c9-613a-44d5-95ee-bb2851813899",
   "metadata": {},
   "source": [
    "Python 기초 문법"
   ]
  },
  {
   "cell_type": "markdown",
   "id": "fad742eb-f55d-4608-ac09-f600be04d793",
   "metadata": {},
   "source": [
    "텍스트를 입력합니다."
   ]
  },
  {
   "cell_type": "markdown",
   "id": "8f277b9a-3d60-40c3-9c3c-e5ac73a1d16f",
   "metadata": {},
   "source": [
    "# 1. Python 개발환경\n",
    "## 1.1. "
   ]
  },
  {
   "cell_type": "code",
   "execution_count": null,
   "id": "2a7485f9-f1d1-4656-be73-4372176a4201",
   "metadata": {},
   "outputs": [],
   "source": []
  },
  {
   "cell_type": "markdown",
   "id": "dc251293-2ac7-408d-bc8d-8a5dfc1c8dc1",
   "metadata": {},
   "source": [
    "여기 위ㅐ에 셀을 추가하고 싶다"
   ]
  },
  {
   "cell_type": "markdown",
   "id": "e3df1f62-c730-4ae3-9681-8b5ab7d6f65f",
   "metadata": {},
   "source": [
    "   1. 안녕하세요\n",
    "   2. 두 번째 리스트입니다."
   ]
  },
  {
   "cell_type": "markdown",
   "id": "b328d0d1-4713-427d-b24e-45deb5d5f3f8",
   "metadata": {},
   "source": [
    "  * 순서가 없는 첫 번째 목록\n",
    "  + 순서가 없는 두 번째 목록\n",
    "  - 순서가 없는 세 번째 목록\n"
   ]
  },
  {
   "cell_type": "markdown",
   "id": "3808d55d-591e-4266-a98a-0c73b7a93124",
   "metadata": {},
   "source": [
    "--------------------------------------------------------"
   ]
  },
  {
   "cell_type": "markdown",
   "id": "b1583929-5e49-4665-a4a2-bdf41d17c914",
   "metadata": {},
   "source": [
    "_기울어진 민혁_"
   ]
  },
  {
   "cell_type": "markdown",
   "id": "4503c4b8-0f89-473b-97f4-3b9c543f19bf",
   "metadata": {},
   "source": [
    "__굵은 글씨__"
   ]
  },
  {
   "cell_type": "markdown",
   "id": "24c99129-d711-4fce-bc17-c6eaa6774c59",
   "metadata": {},
   "source": [
    "~~취소선~~"
   ]
  },
  {
   "cell_type": "markdown",
   "id": "e701696d-7293-4e11-81d4-0eb637f042d4",
   "metadata": {},
   "source": [
    "+ 표준 출력을 지원하는 함수는 `print()`이다\n",
    "\n",
    "``` r\n",
    "\n",
    "list\n",
    "\n",
    "```"
   ]
  },
  {
   "cell_type": "code",
   "execution_count": null,
   "id": "d312435f-783f-48b4-a598-a211fa079a11",
   "metadata": {},
   "outputs": [],
   "source": [
    "# 변수생성1 : 숫자(정수형)\n",
    "a = 100\n",
    "a"
   ]
  },
  {
   "cell_type": "code",
   "execution_count": 30,
   "id": "869cf110-ebfb-4e1d-a87b-60d6ecb7fcf5",
   "metadata": {},
   "outputs": [
    {
     "data": {
      "text/plain": [
       "100"
      ]
     },
     "execution_count": 30,
     "metadata": {},
     "output_type": "execute_result"
    }
   ],
   "source": [
    "b = a\n",
    "b"
   ]
  },
  {
   "cell_type": "code",
   "execution_count": 32,
   "id": "303ba554-0c71-4d94-b02c-e1d6ae3df112",
   "metadata": {},
   "outputs": [
    {
     "data": {
      "text/plain": [
       "200"
      ]
     },
     "execution_count": 32,
     "metadata": {},
     "output_type": "execute_result"
    }
   ],
   "source": [
    "a = a + 50\n",
    "a"
   ]
  },
  {
   "cell_type": "code",
   "execution_count": 33,
   "id": "f18c3f14-66ad-40d1-b895-6be11f9b24e5",
   "metadata": {},
   "outputs": [
    {
     "ename": "SyntaxError",
     "evalue": "cannot assign to True (1770609971.py, line 1)",
     "output_type": "error",
     "traceback": [
      "  \u001b[36mCell\u001b[39m\u001b[36m \u001b[39m\u001b[32mIn[33]\u001b[39m\u001b[32m, line 1\u001b[39m\n\u001b[31m    \u001b[39m\u001b[31mTrue = 1\u001b[39m\n    ^\n\u001b[31mSyntaxError\u001b[39m\u001b[31m:\u001b[39m cannot assign to True\n"
     ]
    }
   ],
   "source": [
    "True = 1"
   ]
  },
  {
   "cell_type": "code",
   "execution_count": null,
   "id": "ef5a8fcf-814b-4fbd-916d-fa065f32ea10",
   "metadata": {},
   "outputs": [],
   "source": []
  },
  {
   "cell_type": "code",
   "execution_count": 34,
   "id": "d44f1b20-b9e9-4413-aa37-19fd2ebd0cf0",
   "metadata": {},
   "outputs": [
    {
     "data": {
      "text/plain": [
       "['False',\n",
       " 'None',\n",
       " 'True',\n",
       " 'and',\n",
       " 'as',\n",
       " 'assert',\n",
       " 'async',\n",
       " 'await',\n",
       " 'break',\n",
       " 'class',\n",
       " 'continue',\n",
       " 'def',\n",
       " 'del',\n",
       " 'elif',\n",
       " 'else',\n",
       " 'except',\n",
       " 'finally',\n",
       " 'for',\n",
       " 'from',\n",
       " 'global',\n",
       " 'if',\n",
       " 'import',\n",
       " 'in',\n",
       " 'is',\n",
       " 'lambda',\n",
       " 'nonlocal',\n",
       " 'not',\n",
       " 'or',\n",
       " 'pass',\n",
       " 'raise',\n",
       " 'return',\n",
       " 'try',\n",
       " 'while',\n",
       " 'with',\n",
       " 'yield']"
      ]
     },
     "execution_count": 34,
     "metadata": {},
     "output_type": "execute_result"
    }
   ],
   "source": [
    "import keyword\n",
    "keyword.kwlist"
   ]
  },
  {
   "cell_type": "code",
   "execution_count": 41,
   "id": "639ab3df-196f-458a-bb27-812c0e617d5a",
   "metadata": {},
   "outputs": [
    {
     "data": {
      "text/plain": [
       "str"
      ]
     },
     "execution_count": 41,
     "metadata": {},
     "output_type": "execute_result"
    }
   ],
   "source": [
    "# 자료형\n",
    "type(100)\n",
    "type(95.7)\n",
    "type('Lee')"
   ]
  },
  {
   "cell_type": "code",
   "execution_count": 43,
   "id": "ba0ccfca-1a33-48b3-a762-c38ef3f16053",
   "metadata": {},
   "outputs": [
    {
     "name": "stdin",
     "output_type": "stream",
     "text": [
      "정수를 하나 입력하세요:  5\n"
     ]
    },
    {
     "data": {
      "text/plain": [
       "'5'"
      ]
     },
     "execution_count": 43,
     "metadata": {},
     "output_type": "execute_result"
    }
   ],
   "source": [
    "# 표준 입력\n",
    "input('정수를 하나 입력하세요: ')"
   ]
  },
  {
   "cell_type": "code",
   "execution_count": 45,
   "id": "101d65ac-fd29-4766-8608-aaf5268a4c82",
   "metadata": {},
   "outputs": [
    {
     "name": "stdout",
     "output_type": "stream",
     "text": [
      "15 + 10 = 25\n"
     ]
    }
   ],
   "source": [
    "#표준 출력\n",
    "x = 15\n",
    "y = 10\n",
    "print(x,'+',y,'=',x+y)"
   ]
  },
  {
   "cell_type": "code",
   "execution_count": 46,
   "id": "ff168f9f-2c7f-4cc7-8e73-344609da5c46",
   "metadata": {},
   "outputs": [
    {
     "name": "stdout",
     "output_type": "stream",
     "text": [
      "15 + 10 = 25\n"
     ]
    }
   ],
   "source": [
    "# f-string 포멧팅\n",
    "print(f'{x} + {y} = {x+y}')"
   ]
  },
  {
   "cell_type": "markdown",
   "id": "ed695109-abfb-4b69-a210-df55626af91f",
   "metadata": {},
   "source": [
    "## 1.3. 컬렉션 자료형"
   ]
  },
  {
   "cell_type": "code",
   "execution_count": 47,
   "id": "9b8381e8-856c-4acd-b7f7-ae9a61afbffb",
   "metadata": {},
   "outputs": [
    {
     "name": "stdout",
     "output_type": "stream",
     "text": [
      "{10, 20, 30}\n"
     ]
    }
   ],
   "source": [
    "# 리스트 생성1\n",
    "x = {10,20,30}\n",
    "print(x)"
   ]
  },
  {
   "cell_type": "code",
   "execution_count": null,
   "id": "19343260-f40b-4d77-9846-aa31443ca8a3",
   "metadata": {},
   "outputs": [],
   "source": [
    "# 리스트 생성2 : 서로 다른 자료형을 저장할 수 있음\n",
    "y = {3.14,'park'"
   ]
  },
  {
   "cell_type": "code",
   "execution_count": null,
   "id": "03fee8c4-7de3-43cf-bcae-b8eda537ccdf",
   "metadata": {},
   "outputs": [],
   "source": [
    "# 리스트 슬라이싱 : 인덱스1부터 끝까지 가져오기\n",
    "y={1:}"
   ]
  },
  {
   "cell_type": "code",
   "execution_count": null,
   "id": "00ecf9b6-c7d8-438f-9425-aca4ae6f370d",
   "metadata": {},
   "outputs": [],
   "source": [
    "# 리스트 변경"
   ]
  },
  {
   "cell_type": "code",
   "execution_count": null,
   "id": "3684897e-76f3-4131-8087-37b3509d515b",
   "metadata": {},
   "outputs": [],
   "source": [
    "# 첫 번째 값 변경"
   ]
  },
  {
   "cell_type": "code",
   "execution_count": null,
   "id": "814ac77d-47db-49ce-b2d2-c101b45190e6",
   "metadata": {},
   "outputs": [],
   "source": [
    "# 두 번째 값 변경"
   ]
  },
  {
   "cell_type": "markdown",
   "id": "57041d22-4cb1-4e66-9ff0-fb7192d6d4a6",
   "metadata": {},
   "source": [
    "  #1.3.2 튜플"
   ]
  },
  {
   "cell_type": "code",
   "execution_count": null,
   "id": "07543ba5-4903-4917-84c5-629fad260fa1",
   "metadata": {},
   "outputs": [],
   "source": [
    "# 튜플 리스트는 대괄호 쳐야함 하지만 튜플은 소괄호"
   ]
  },
  {
   "cell_type": "code",
   "execution_count": null,
   "id": "a54a8726-00de-49a4-a171-b5cbbec01ae6",
   "metadata": {},
   "outputs": [],
   "source": [
    "# 튜플 생성4 : 0에서 9까지 정수 생성   list tuple 비슷함"
   ]
  },
  {
   "cell_type": "code",
   "execution_count": null,
   "id": "9e286ca0-1fad-4fd5-923e-12f511885049",
   "metadata": {},
   "outputs": [],
   "source": [
    "123456789  range10 (3,10) "
   ]
  },
  {
   "cell_type": "code",
   "execution_count": null,
   "id": "7cc9e0d7-b4a0-4b0f-9666-2c37e7877b09",
   "metadata": {},
   "outputs": [],
   "source": [
    "# range(start 생략하면0 stride 생략하면1"
   ]
  },
  {
   "cell_type": "code",
   "execution_count": null,
   "id": "795af6f0-4d52-478b-a888-73191c1037ea",
   "metadata": {},
   "outputs": [],
   "source": [
    "# 튜플 변경 에러"
   ]
  },
  {
   "cell_type": "code",
   "execution_count": null,
   "id": "7f28ea32-4294-4318-af6e-784c5db87550",
   "metadata": {},
   "outputs": [],
   "source": [
    "# 튜플 인덱싱 "
   ]
  },
  {
   "cell_type": "code",
   "execution_count": null,
   "id": "a486f4cf-1fe4-425e-a0aa-0cb15de43c9f",
   "metadata": {},
   "outputs": [],
   "source": [
    "딕셔너리와 리스트는 잘 기억"
   ]
  },
  {
   "cell_type": "markdown",
   "id": "c81c3c58-31dd-48c7-895c-abda1697bd32",
   "metadata": {},
   "source": [
    "## 1.3.3 딕셔너리"
   ]
  },
  {
   "cell_type": "code",
   "execution_count": 49,
   "id": "91795c9c-8cbc-4fd2-ba8a-39f300835602",
   "metadata": {},
   "outputs": [
    {
     "ename": "SyntaxError",
     "evalue": "closing parenthesis ']' does not match opening parenthesis '{' (630137137.py, line 2)",
     "output_type": "error",
     "traceback": [
      "  \u001b[36mCell\u001b[39m\u001b[36m \u001b[39m\u001b[32mIn[49]\u001b[39m\u001b[32m, line 2\u001b[39m\n\u001b[31m    \u001b[39m\u001b[31m[{x for x in {10,20,30}]\u001b[39m\n                           ^\n\u001b[31mSyntaxError\u001b[39m\u001b[31m:\u001b[39m closing parenthesis ']' does not match opening parenthesis '{'\n"
     ]
    }
   ],
   "source": [
    "#리스트 컨프리헨션\n",
    "[{x for x in {10,20,30}]"
   ]
  },
  {
   "cell_type": "code",
   "execution_count": 55,
   "id": "1884c40a-c4ce-4558-b335-90300be64e99",
   "metadata": {},
   "outputs": [
    {
     "ename": "NameError",
     "evalue": "name 'num' is not defined",
     "output_type": "error",
     "traceback": [
      "\u001b[31m---------------------------------------------------------------------------\u001b[39m",
      "\u001b[31mNameError\u001b[39m                                 Traceback (most recent call last)",
      "\u001b[36mCell\u001b[39m\u001b[36m \u001b[39m\u001b[32mIn[55]\u001b[39m\u001b[32m, line 1\u001b[39m\n\u001b[32m----> \u001b[39m\u001b[32m1\u001b[39m [\u001b[32m1\u001b[39m/x \u001b[38;5;28;01mfor\u001b[39;00m x \u001b[38;5;129;01min\u001b[39;00m \u001b[43mnum\u001b[49m \u001b[38;5;28;01mif\u001b[39;00m x > \u001b[32m0\u001b[39m]\n",
      "\u001b[31mNameError\u001b[39m: name 'num' is not defined"
     ]
    }
   ],
   "source": [
    "[1/x for x in num if x > 0]"
   ]
  },
  {
   "cell_type": "code",
   "execution_count": null,
   "id": "dabd894a-709f-4e76-82f9-59fe641005d2",
   "metadata": {},
   "outputs": [],
   "source": [
    "반복문 들여쓰기 해야함 안 하면 에러"
   ]
  },
  {
   "cell_type": "code",
   "execution_count": null,
   "id": "948b629b-9722-4b99-a484-85d69b36767a",
   "metadata": {},
   "outputs": [],
   "source": [
    "for i in {10, 20, 30} i는 제어변수 in 뒤의 가로에 있는 것이 제어변수이다. "
   ]
  },
  {
   "cell_type": "code",
   "execution_count": null,
   "id": "ab6f5ac4-433a-4adb-b934-f2335610e807",
   "metadata": {},
   "outputs": [],
   "source": [
    "  # 내장함수 enumerate"
   ]
  },
  {
   "cell_type": "code",
   "execution_count": 56,
   "id": "b645e064-e2df-4039-95b6-98c29f81f572",
   "metadata": {},
   "outputs": [
    {
     "data": {
      "text/plain": [
       "{'라면': 4000, '김밥': 6000, '어묵': 3000}"
      ]
     },
     "execution_count": 56,
     "metadata": {},
     "output_type": "execute_result"
    }
   ],
   "source": [
    "# 내장함수 zip()\n",
    "food = {'김밥','라면','어묵'}\n",
    "price = {4000, 6000, 3000}\n",
    "dict(zip(food, price))"
   ]
  },
  {
   "cell_type": "code",
   "execution_count": 64,
   "id": "6e432ca6-291a-496d-8518-11b1f17bdb0d",
   "metadata": {},
   "outputs": [
    {
     "ename": "SyntaxError",
     "evalue": "invalid syntax (270856303.py, line 1)",
     "output_type": "error",
     "traceback": [
      "  \u001b[36mCell\u001b[39m\u001b[36m \u001b[39m\u001b[32mIn[64]\u001b[39m\u001b[32m, line 1\u001b[39m\n\u001b[31m    \u001b[39m\u001b[31mimport install random\u001b[39m\n                   ^\n\u001b[31mSyntaxError\u001b[39m\u001b[31m:\u001b[39m invalid syntax\n"
     ]
    }
   ],
   "source": [
    "import install random"
   ]
  },
  {
   "cell_type": "code",
   "execution_count": 65,
   "id": "89ccbc3b-39b4-4d1a-898b-790510e20085",
   "metadata": {},
   "outputs": [
    {
     "data": {
      "text/plain": [
       "0.7895834433104397"
      ]
     },
     "execution_count": 65,
     "metadata": {},
     "output_type": "execute_result"
    }
   ],
   "source": [
    "random.random()          #0.0 ~ 1.0 임의의 실수를 반환(0.0은 포함 1.0은 포함X)"
   ]
  },
  {
   "cell_type": "code",
   "execution_count": 68,
   "id": "56029ffd-05e5-4c75-b249-37cdb66b99b0",
   "metadata": {},
   "outputs": [],
   "source": [
    "mylist = []\n",
    "\n",
    "for i in range(10):\n",
    "    mylist.append(random.random())"
   ]
  },
  {
   "cell_type": "code",
   "execution_count": 69,
   "id": "7ffe2ecf-59aa-4c9a-843b-f8ba08c3800c",
   "metadata": {},
   "outputs": [
    {
     "data": {
      "text/plain": [
       "[0.3033815965035167,\n",
       " 0.13319488522006784,\n",
       " 0.6652504645042332,\n",
       " 0.1450348635544807,\n",
       " 0.5544624119359377,\n",
       " 0.14105413376461806,\n",
       " 0.2729051962914031,\n",
       " 0.46398929500862673,\n",
       " 0.17868016617441718,\n",
       " 0.7572224190973091]"
      ]
     },
     "execution_count": 69,
     "metadata": {},
     "output_type": "execute_result"
    }
   ],
   "source": [
    "mylist"
   ]
  }
 ],
 "metadata": {
  "kernelspec": {
   "display_name": "Python 3 (ipykernel)",
   "language": "python",
   "name": "python3"
  },
  "language_info": {
   "codemirror_mode": {
    "name": "ipython",
    "version": 3
   },
   "file_extension": ".py",
   "mimetype": "text/x-python",
   "name": "python",
   "nbconvert_exporter": "python",
   "pygments_lexer": "ipython3",
   "version": "3.11.13"
  }
 },
 "nbformat": 4,
 "nbformat_minor": 5
}
